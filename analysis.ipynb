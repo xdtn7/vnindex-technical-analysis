{
 "metadata": {
  "language_info": {
   "codemirror_mode": {
    "name": "ipython",
    "version": 3
   },
   "file_extension": ".py",
   "mimetype": "text/x-python",
   "name": "python",
   "nbconvert_exporter": "python",
   "pygments_lexer": "ipython3",
   "version": "3.9.1"
  },
  "orig_nbformat": 2,
  "kernelspec": {
   "name": "python3",
   "display_name": "Python 3.9.1 64-bit"
  },
  "interpreter": {
   "hash": "4b05836556004184389cc01511764989dd7ccbe40690a958a2cd6bd7c146918b"
  }
 },
 "nbformat": 4,
 "nbformat_minor": 2,
 "cells": [
  {
   "source": [
    "# VNINDEX ANALYSIS\n",
    "## DUY TINH NGUYEN"
   ],
   "cell_type": "markdown",
   "metadata": {}
  },
  {
   "cell_type": "code",
   "execution_count": 150,
   "metadata": {},
   "outputs": [],
   "source": [
    "from googleapiclient.discovery import build\n",
    "from google.oauth2.credentials import Credentials\n",
    "from google.oauth2 import service_account\n",
    "from pandas_datareader import data\n",
    "import datetime\n",
    "from bokeh.plotting import figure, show, output_file \n",
    "\n",
    "import numpy as np\n",
    "import matplotlib.pyplot as plt\n",
    "from mpl_finance import candlestick_ohlc\n",
    "import mplfinance\n",
    "import pandas as pd\n",
    "import matplotlib.dates as mpl_dates\n"
   ]
  },
  {
   "source": [
    "# GET DATA"
   ],
   "cell_type": "markdown",
   "metadata": {}
  },
  {
   "cell_type": "code",
   "execution_count": 151,
   "metadata": {},
   "outputs": [],
   "source": [
    "def get_data (code):\n",
    "    \n",
    "    # The ID and range of a sample spreadsheet.\n",
    "    SAMPLE_SPREADSHEET_ID = '1B-ovqR440h-pKkL7PBVAuiZ8kaqgNjg2ke-ReMeCuXk'\n",
    "    SAMPLE_RANGE_NAME = 'historyprice!A1:M101'\n",
    "\n",
    "    SCOPES = ['https://www.googleapis.com/auth/spreadsheets']\n",
    "    SERVICE_ACCOUNT_FILE = 'keys.json'\n",
    "    creds = None\n",
    "    creds = service_account.Credentials.from_service_account_file(\n",
    "            SERVICE_ACCOUNT_FILE, scopes=SCOPES)\n",
    "\n",
    "\n",
    "    service = build('sheets', 'v4', credentials=creds)\n",
    "    MESS = '=IMPORTHTML(\"https://www.cophieu68.vn/historyprice.php?id=' + code + '\";\"table\";2)'\n",
    "    val = [[MESS]]\n",
    "    sheet = service.spreadsheets()\n",
    "    request = sheet.values().update(spreadsheetId=SAMPLE_SPREADSHEET_ID, range=\"historyprice!A1\", valueInputOption = \"USER_ENTERED\", body = {\"values\":val}).execute()\n",
    "\n",
    "    # Call the Sheets API\n",
    "\n",
    "    result = sheet.values().get(spreadsheetId=SAMPLE_SPREADSHEET_ID, range=SAMPLE_RANGE_NAME).execute()\n",
    "    values = result.get('values', [])\n",
    "\n",
    "    return values"
   ]
  },
  {
   "source": [
    "# DATA FILTER"
   ],
   "cell_type": "markdown",
   "metadata": {}
  },
  {
   "cell_type": "code",
   "execution_count": 152,
   "metadata": {},
   "outputs": [],
   "source": [
    "def filter (data):\n",
    "    output = []\n",
    "    for i in range (1,len(data)):\n",
    "        if data[i][0][0] == '#': \n",
    "            output.append([datetime.datetime(int(data[i][1][6:10]), int(data[i][1][3:5]), int(data[i][1][0:2])), float(data[i][7]), float(data[i][8]), float(data[i][9]), float(data[i][5][1:-1]), int(data[i][6].replace(',','')), float(data[i][2])])\n",
    "        # else:\n",
    "        #     output.append([data[i][0][1:11],np.nan,np.nan,np.nan,np.nan,np.nan,np.nan])\n",
    "    return output"
   ]
  },
  {
   "cell_type": "code",
   "execution_count": 153,
   "metadata": {},
   "outputs": [],
   "source": [
    "def plot_candle(code, data, values):\n",
    "    plt.style.use('ggplot')\n",
    "    ohlc = data.loc[:, ['Date', 'Open', 'High', 'Low', 'Close']]\n",
    "    # ohlc['Date'] = pd.to_datetime(ohlc['Date'])\n",
    "    #tmp = data.loc[:,['Date']]\n",
    "    #ohlc['Date'] = ohlc['Date'].apply(dates.date2num)\n",
    "    ohlc['Date'] = np.arange(len(data))\n",
    "    #ohlc = ohlc.astype(float)\n",
    "\n",
    "    # Creating Subplots\n",
    "    fig, ax = plt.subplots()\n",
    "    \n",
    "    candlestick_ohlc(ax, ohlc.values, width=0.6, colorup='green', colordown='red', alpha=0.6)\n",
    "\n",
    "    # Setting labels & titles\n",
    "    ax.set_xlabel('Date')\n",
    "    ax.set_ylabel('Price')\n",
    "    fig.suptitle('Candlestick Chart of '+ code.upper())\n",
    "\n",
    "    # Formatting Date\n",
    "    date_format = mpl_dates.DateFormatter('%d-%m-%Y')\n",
    "    ax.xaxis.set_major_formatter(date_format)\n",
    "    fig.autofmt_xdate()\n",
    "\n",
    "    fig.tight_layout()\n",
    "    fig.set_size_inches(18, 7)\n",
    "    tmp = []\n",
    "    x = np.arange(0,len(data),10)\n",
    "    # print(np.arange(0,len(data),10))\n",
    "    # print(len(values))\n",
    "    for i in range(len(x)):\n",
    "        #print(len(data)-x[i])\n",
    "        if values[len(data)-x[i]-1][0][0] == '#':\n",
    "            tmp.append(values[len(data)-x[i]][1])\n",
    "    \n",
    "    plt.xticks(x, np.array(tmp))\n",
    "    plt.plot(x, data.loc[:,['Reference']])\n",
    "    \n",
    "    plt.show()\n"
   ]
  },
  {
   "cell_type": "code",
   "execution_count": 154,
   "metadata": {},
   "outputs": [],
   "source": [
    "def remove_code_codenote(code):\n",
    "    data = pd.read_csv('stock_database/codenote.csv')\n",
    "    data = data.drop(columns = code)\n",
    "    data.to_csv('stock_database/codenote.csv')\n",
    "    return data"
   ]
  },
  {
   "cell_type": "code",
   "execution_count": 155,
   "metadata": {},
   "outputs": [],
   "source": [
    "class candle:\n",
    "    def __init__(self):\n",
    "        self.CODE = ''\n",
    "        #self.VALUES = get_data(self.CODE)\n",
    "    def check_code_in_csv (self, code):\n",
    "        data = pd.read_csv('stock_database/codenote.csv')\n",
    "        if (code in data):\n",
    "            return True\n",
    "        else:\n",
    "            return False\n",
    "    def r_codenote(self):\n",
    "        return pd.read_csv('stock_database/codenote.csv')\n",
    "    def w_codenote(self, code, mess):\n",
    "        data = pd.read_csv('stock_database/codenote.csv')\n",
    "        if (not (code in data)):\n",
    "            data.insert(len(data), code, mess + '\\n' + datetime.date.today().strftime(\"%d/%m/%Y\"))\n",
    "        else:\n",
    "            for i in range (len(data[code].dropna())):\n",
    "                data.at[i,code] = data.at[i-1,code]\n",
    "            data.at[0,code] = mess + '\\n' + datetime.date.today().strftime(\"%d/%m/%Y\")\n",
    "        data.to_csv('stock_database/codenote.csv')\n",
    "    def cal(self, code):\n",
    "        if code != self.CODE:\n",
    "            if(self.check_code_in_csv(code)):\n",
    "                dat = pd.read_csv('stock_database/' + code + '.csv')\n",
    "                plot_candle(code, dat, self.VALUES)\n",
    "            else:\n",
    "                self.VALUES = get_data(code)\n",
    "                self.CODE = code\n",
    "                data = pd.DataFrame(filter(self.VALUES), columns=['Date', 'Open', 'High', 'Low', 'Close','Volume','Reference'])\n",
    "                data.to_csv('stock_database/' + code + '.csv')\n",
    "                self.w_codenote(code,'')\n",
    "                plot_candle(code, data, self.VALUES)\n",
    "        else:\n",
    "            data = pd.DataFrame(filter(self.VALUES), columns=['Date', 'Open', 'High', 'Low', 'Close','Volume','Reference'])\n",
    "            plot_candle(code, data, self.VALUES)\n",
    "    \n",
    "    \n",
    "        "
   ]
  },
  {
   "cell_type": "code",
   "execution_count": 156,
   "metadata": {},
   "outputs": [],
   "source": [
    "can = candle()"
   ]
  },
  {
   "cell_type": "code",
   "execution_count": 149,
   "metadata": {},
   "outputs": [
    {
     "output_type": "error",
     "ename": "NameError",
     "evalue": "name 'plot' is not defined",
     "traceback": [
      "\u001b[1;31m---------------------------------------------------------------------------\u001b[0m",
      "\u001b[1;31mNameError\u001b[0m                                 Traceback (most recent call last)",
      "\u001b[1;32m<ipython-input-149-c1a80213ce7f>\u001b[0m in \u001b[0;36m<module>\u001b[1;34m\u001b[0m\n\u001b[0;32m      1\u001b[0m \u001b[0mCODE\u001b[0m \u001b[1;33m=\u001b[0m \u001b[1;34m'vhc'\u001b[0m\u001b[1;33m\u001b[0m\u001b[1;33m\u001b[0m\u001b[0m\n\u001b[1;32m----> 2\u001b[1;33m \u001b[0mcan\u001b[0m\u001b[1;33m.\u001b[0m\u001b[0mcal\u001b[0m\u001b[1;33m(\u001b[0m\u001b[0mCODE\u001b[0m\u001b[1;33m)\u001b[0m\u001b[1;33m\u001b[0m\u001b[1;33m\u001b[0m\u001b[0m\n\u001b[0m",
      "\u001b[1;32m<ipython-input-147-78842536ee7d>\u001b[0m in \u001b[0;36mcal\u001b[1;34m(self, code)\u001b[0m\n\u001b[0;32m     30\u001b[0m                 \u001b[0mdata\u001b[0m\u001b[1;33m.\u001b[0m\u001b[0mto_csv\u001b[0m\u001b[1;33m(\u001b[0m\u001b[1;34m'stock_database/'\u001b[0m \u001b[1;33m+\u001b[0m \u001b[0mcode\u001b[0m \u001b[1;33m+\u001b[0m \u001b[1;34m'.csv'\u001b[0m\u001b[1;33m)\u001b[0m\u001b[1;33m\u001b[0m\u001b[1;33m\u001b[0m\u001b[0m\n\u001b[0;32m     31\u001b[0m                 \u001b[0mself\u001b[0m\u001b[1;33m.\u001b[0m\u001b[0mw_codenote\u001b[0m\u001b[1;33m(\u001b[0m\u001b[0mcode\u001b[0m\u001b[1;33m,\u001b[0m\u001b[1;34m''\u001b[0m\u001b[1;33m)\u001b[0m\u001b[1;33m\u001b[0m\u001b[1;33m\u001b[0m\u001b[0m\n\u001b[1;32m---> 32\u001b[1;33m                 \u001b[0mplot_candle\u001b[0m\u001b[1;33m(\u001b[0m\u001b[0mcode\u001b[0m\u001b[1;33m,\u001b[0m \u001b[0mdata\u001b[0m\u001b[1;33m,\u001b[0m \u001b[0mself\u001b[0m\u001b[1;33m.\u001b[0m\u001b[0mVALUES\u001b[0m\u001b[1;33m)\u001b[0m\u001b[1;33m\u001b[0m\u001b[1;33m\u001b[0m\u001b[0m\n\u001b[0m\u001b[0;32m     33\u001b[0m         \u001b[1;32melse\u001b[0m\u001b[1;33m:\u001b[0m\u001b[1;33m\u001b[0m\u001b[1;33m\u001b[0m\u001b[0m\n\u001b[0;32m     34\u001b[0m             \u001b[0mdata\u001b[0m \u001b[1;33m=\u001b[0m \u001b[0mpd\u001b[0m\u001b[1;33m.\u001b[0m\u001b[0mDataFrame\u001b[0m\u001b[1;33m(\u001b[0m\u001b[0mfilter\u001b[0m\u001b[1;33m(\u001b[0m\u001b[0mself\u001b[0m\u001b[1;33m.\u001b[0m\u001b[0mVALUES\u001b[0m\u001b[1;33m)\u001b[0m\u001b[1;33m,\u001b[0m \u001b[0mcolumns\u001b[0m\u001b[1;33m=\u001b[0m\u001b[1;33m[\u001b[0m\u001b[1;34m'Date'\u001b[0m\u001b[1;33m,\u001b[0m \u001b[1;34m'Open'\u001b[0m\u001b[1;33m,\u001b[0m \u001b[1;34m'High'\u001b[0m\u001b[1;33m,\u001b[0m \u001b[1;34m'Low'\u001b[0m\u001b[1;33m,\u001b[0m \u001b[1;34m'Close'\u001b[0m\u001b[1;33m,\u001b[0m\u001b[1;34m'Volume'\u001b[0m\u001b[1;33m,\u001b[0m\u001b[1;34m'Reference'\u001b[0m\u001b[1;33m]\u001b[0m\u001b[1;33m)\u001b[0m\u001b[1;33m\u001b[0m\u001b[1;33m\u001b[0m\u001b[0m\n",
      "\u001b[1;32m<ipython-input-145-91aa1ba6ecba>\u001b[0m in \u001b[0;36mplot_candle\u001b[1;34m(code, data, values)\u001b[0m\n\u001b[0;32m     35\u001b[0m \u001b[1;33m\u001b[0m\u001b[0m\n\u001b[0;32m     36\u001b[0m     \u001b[0mplt\u001b[0m\u001b[1;33m.\u001b[0m\u001b[0mxticks\u001b[0m\u001b[1;33m(\u001b[0m\u001b[0mx\u001b[0m\u001b[1;33m,\u001b[0m \u001b[0mnp\u001b[0m\u001b[1;33m.\u001b[0m\u001b[0marray\u001b[0m\u001b[1;33m(\u001b[0m\u001b[0mtmp\u001b[0m\u001b[1;33m)\u001b[0m\u001b[1;33m)\u001b[0m\u001b[1;33m\u001b[0m\u001b[1;33m\u001b[0m\u001b[0m\n\u001b[1;32m---> 37\u001b[1;33m     \u001b[0mplot\u001b[0m\u001b[1;33m(\u001b[0m\u001b[0mx\u001b[0m\u001b[1;33m,\u001b[0m \u001b[0mdata\u001b[0m\u001b[1;33m.\u001b[0m\u001b[0mloc\u001b[0m\u001b[1;33m[\u001b[0m\u001b[1;33m:\u001b[0m\u001b[1;33m,\u001b[0m\u001b[1;33m[\u001b[0m\u001b[1;34m'Reference'\u001b[0m\u001b[1;33m]\u001b[0m\u001b[1;33m]\u001b[0m\u001b[1;33m)\u001b[0m\u001b[1;33m\u001b[0m\u001b[1;33m\u001b[0m\u001b[0m\n\u001b[0m\u001b[0;32m     38\u001b[0m \u001b[1;33m\u001b[0m\u001b[0m\n\u001b[0;32m     39\u001b[0m     \u001b[0mplt\u001b[0m\u001b[1;33m.\u001b[0m\u001b[0mshow\u001b[0m\u001b[1;33m(\u001b[0m\u001b[1;33m)\u001b[0m\u001b[1;33m\u001b[0m\u001b[1;33m\u001b[0m\u001b[0m\n",
      "\u001b[1;31mNameError\u001b[0m: name 'plot' is not defined"
     ]
    }
   ],
   "source": [
    "CODE = 'vhc'\n",
    "can.cal(CODE)"
   ]
  },
  {
   "cell_type": "code",
   "execution_count": 83,
   "metadata": {},
   "outputs": [],
   "source": [
    "for i in range(len(df['grade'].dropna()), 0,-1):\n",
    "    df.at[i,'grade'] = df.at[i-1,'grade']\n",
    "df.at[0,'grade']"
   ]
  },
  {
   "cell_type": "code",
   "execution_count": 124,
   "metadata": {},
   "outputs": [],
   "source": [
    "data = pd.read_csv('stock_database/codenote.csv')"
   ]
  },
  {
   "cell_type": "code",
   "execution_count": 88,
   "metadata": {},
   "outputs": [
    {
     "output_type": "execute_result",
     "data": {
      "text/plain": [
       "     Name  Height Qualification  Age\n",
       "0     Jai     5.1           Msc   21\n",
       "1  Princi     6.2            MA   23\n",
       "2  Gaurav     5.1           Msc   24\n",
       "3    Anuj     5.2           Msc   21"
      ],
      "text/html": "<div>\n<style scoped>\n    .dataframe tbody tr th:only-of-type {\n        vertical-align: middle;\n    }\n\n    .dataframe tbody tr th {\n        vertical-align: top;\n    }\n\n    .dataframe thead th {\n        text-align: right;\n    }\n</style>\n<table border=\"1\" class=\"dataframe\">\n  <thead>\n    <tr style=\"text-align: right;\">\n      <th></th>\n      <th>Name</th>\n      <th>Height</th>\n      <th>Qualification</th>\n      <th>Age</th>\n    </tr>\n  </thead>\n  <tbody>\n    <tr>\n      <th>0</th>\n      <td>Jai</td>\n      <td>5.1</td>\n      <td>Msc</td>\n      <td>21</td>\n    </tr>\n    <tr>\n      <th>1</th>\n      <td>Princi</td>\n      <td>6.2</td>\n      <td>MA</td>\n      <td>23</td>\n    </tr>\n    <tr>\n      <th>2</th>\n      <td>Gaurav</td>\n      <td>5.1</td>\n      <td>Msc</td>\n      <td>24</td>\n    </tr>\n    <tr>\n      <th>3</th>\n      <td>Anuj</td>\n      <td>5.2</td>\n      <td>Msc</td>\n      <td>21</td>\n    </tr>\n  </tbody>\n</table>\n</div>"
     },
     "metadata": {},
     "execution_count": 88
    }
   ],
   "source": [
    "data = {'Name': ['Jai', 'Princi', 'Gaurav', 'Anuj'],\n",
    "        'Height': [5.1, 6.2, 5.1, 5.2],\n",
    "        'Qualification': ['Msc', 'MA', 'Msc', 'Msc']}\n",
    "  \n",
    "# Convert the dictionary into DataFrame\n",
    "df = pd.DataFrame(data)\n",
    "  \n",
    "# Using DataFrame.insert() to add a column\n",
    "df.insert(len(data), \"Age\", [21, 23, 24, 21], True)\n",
    "  \n",
    "# Observe the result\n",
    "df"
   ]
  }
 ]
}